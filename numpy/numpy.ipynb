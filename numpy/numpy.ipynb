{
 "cells": [
  {
   "cell_type": "code",
   "execution_count": 1,
   "metadata": {},
   "outputs": [
    {
     "name": "stdout",
     "output_type": "stream",
     "text": [
      "float16\n",
      "[ 0.5  6.  13.  11.4]\n"
     ]
    }
   ],
   "source": [
    "import numpy as np\n",
    "\n",
    "# 1. Créer un ndarray d'une seule dimension avec les valeurs [0.5, 6, 13, 11.4]\n",
    "numbers = np.array([0.5, 6, 13, 11.4], dtype=np.float16)\n",
    "print(numbers.dtype)\n",
    "print(numbers)"
   ]
  },
  {
   "cell_type": "code",
   "execution_count": 2,
   "metadata": {},
   "outputs": [
    {
     "name": "stdout",
     "output_type": "stream",
     "text": [
      "[ 1.  4.  7. 10. 13. 16. 19.]\n"
     ]
    }
   ],
   "source": [
    "#2. Quel est le type de données le plus adapté ?\n",
    "# float16\n",
    "\n",
    "#3. Créer un ndarray respectant le modèle suivant : [1., 4., 7., 10., 13., 16., 19.]\n",
    "numbers2 = np.arange(1, 22, 3, dtype=np.float16)\n",
    "print(numbers2)"
   ]
  },
  {
   "cell_type": "code",
   "execution_count": 3,
   "metadata": {},
   "outputs": [
    {
     "name": "stdout",
     "output_type": "stream",
     "text": [
      "7\n"
     ]
    }
   ],
   "source": [
    "\n",
    "# 4. Afficher la taille du ndarray\n",
    "print(numbers2.size)"
   ]
  },
  {
   "cell_type": "code",
   "execution_count": null,
   "metadata": {},
   "outputs": [],
   "source": [
    "\n",
    "# 5. Créer un ndarray rempli de zéros dont les dimensions sont (3, 5, 2)\n",
    "print(np.zeros((1, 5, 2)))"
   ]
  },
  {
   "cell_type": "code",
   "execution_count": null,
   "metadata": {},
   "outputs": [],
   "source": [
    "# QUESTIONS\n",
    "\n",
    "# 1. Qu'apporte la librairie NumPy au langage Python ?\n",
    "# Des methodes pour manipuler des données, notamment sous forme de matrices, et des meilleurs types de données. C'ets aussi mieux pour l'algebre lineaire\n",
    "\n",
    "# 2. Que signifie unsigned ?\n",
    "# Le type de données unsigned n'accepte pas les valeurs négatives, mais s'avère utile car le nombre de valeurs acceptées est doublé\n",
    "\n",
    "# 3. Est-il possible de parcourir un ndarray avec une boucle for ?\n",
    "#Oui.\n",
    "numbers = np.array([0.5, 6, 13, 11.4], dtype=np.float16)\n",
    "for number in numbers:\n",
    "    print(number)\n",
    "\n",
    "# 4. Pandas fonctionne t-il avec la librairie NumPy ?\n",
    "# Oui\n",
    "\n",
    "# 5. Quelle est la fourchette de valeurs acceptées par le type uint16 ?\n",
    "# (-2**16 / 2) à (2**16)"
   ]
  }
 ],
 "metadata": {
  "kernelspec": {
   "display_name": "course-venv",
   "language": "python",
   "name": "python3"
  },
  "language_info": {
   "codemirror_mode": {
    "name": "ipython",
    "version": 3
   },
   "file_extension": ".py",
   "mimetype": "text/x-python",
   "name": "python",
   "nbconvert_exporter": "python",
   "pygments_lexer": "ipython3",
   "version": "3.11.4"
  }
 },
 "nbformat": 4,
 "nbformat_minor": 2
}
