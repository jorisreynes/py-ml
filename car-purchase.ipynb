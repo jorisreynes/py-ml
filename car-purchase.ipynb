{
 "cells": [
  {
   "cell_type": "code",
   "execution_count": 4,
   "metadata": {},
   "outputs": [
    {
     "ename": "TypeError",
     "evalue": "can only concatenate str (not \"numpy.int64\") to str",
     "output_type": "error",
     "traceback": [
      "\u001b[1;31m---------------------------------------------------------------------------\u001b[0m",
      "\u001b[1;31mTypeError\u001b[0m                                 Traceback (most recent call last)",
      "\u001b[1;32mc:\\Users\\joris\\Documents\\py-ml-car-purchase\\car-purchase.ipynb Cell 1\u001b[0m line \u001b[0;36m1\n\u001b[0;32m     <a href='vscode-notebook-cell:/c%3A/Users/joris/Documents/py-ml-car-purchase/car-purchase.ipynb#W0sZmlsZQ%3D%3D?line=11'>12</a>\u001b[0m model\u001b[39m.\u001b[39mfit(X, y)\n\u001b[0;32m     <a href='vscode-notebook-cell:/c%3A/Users/joris/Documents/py-ml-car-purchase/car-purchase.ipynb#W0sZmlsZQ%3D%3D?line=13'>14</a>\u001b[0m joblib\u001b[39m.\u001b[39mdump(model, \u001b[39m'\u001b[39m\u001b[39mcar-purchase-recommander.joblib\u001b[39m\u001b[39m'\u001b[39m)\n\u001b[1;32m---> <a href='vscode-notebook-cell:/c%3A/Users/joris/Documents/py-ml-car-purchase/car-purchase.ipynb#W0sZmlsZQ%3D%3D?line=15'>16</a>\u001b[0m tree\u001b[39m.\u001b[39;49mexport_graphviz(\n\u001b[0;32m     <a href='vscode-notebook-cell:/c%3A/Users/joris/Documents/py-ml-car-purchase/car-purchase.ipynb#W0sZmlsZQ%3D%3D?line=16'>17</a>\u001b[0m     model,\n\u001b[0;32m     <a href='vscode-notebook-cell:/c%3A/Users/joris/Documents/py-ml-car-purchase/car-purchase.ipynb#W0sZmlsZQ%3D%3D?line=17'>18</a>\u001b[0m     out_file\u001b[39m=\u001b[39;49m\u001b[39m'\u001b[39;49m\u001b[39mcar-purchase-recommander.dot\u001b[39;49m\u001b[39m'\u001b[39;49m,\n\u001b[0;32m     <a href='vscode-notebook-cell:/c%3A/Users/joris/Documents/py-ml-car-purchase/car-purchase.ipynb#W0sZmlsZQ%3D%3D?line=18'>19</a>\u001b[0m     feature_names\u001b[39m=\u001b[39;49m[\u001b[39m'\u001b[39;49m\u001b[39mage\u001b[39;49m\u001b[39m'\u001b[39;49m, \u001b[39m'\u001b[39;49m\u001b[39mgender\u001b[39;49m\u001b[39m'\u001b[39;49m, \u001b[39m'\u001b[39;49m\u001b[39mannualsalary\u001b[39;49m\u001b[39m'\u001b[39;49m],\n\u001b[0;32m     <a href='vscode-notebook-cell:/c%3A/Users/joris/Documents/py-ml-car-purchase/car-purchase.ipynb#W0sZmlsZQ%3D%3D?line=19'>20</a>\u001b[0m     class_names\u001b[39m=\u001b[39;49m\u001b[39msorted\u001b[39;49m(y\u001b[39m.\u001b[39;49munique()),\n\u001b[0;32m     <a href='vscode-notebook-cell:/c%3A/Users/joris/Documents/py-ml-car-purchase/car-purchase.ipynb#W0sZmlsZQ%3D%3D?line=20'>21</a>\u001b[0m     label\u001b[39m=\u001b[39;49m\u001b[39m'\u001b[39;49m\u001b[39mall\u001b[39;49m\u001b[39m'\u001b[39;49m,\n\u001b[0;32m     <a href='vscode-notebook-cell:/c%3A/Users/joris/Documents/py-ml-car-purchase/car-purchase.ipynb#W0sZmlsZQ%3D%3D?line=21'>22</a>\u001b[0m     filled\u001b[39m=\u001b[39;49m\u001b[39mTrue\u001b[39;49;00m\n\u001b[0;32m     <a href='vscode-notebook-cell:/c%3A/Users/joris/Documents/py-ml-car-purchase/car-purchase.ipynb#W0sZmlsZQ%3D%3D?line=22'>23</a>\u001b[0m )\n",
      "File \u001b[1;32mc:\\Users\\joris\\Documents\\py-ml-car-purchase\\course-venv\\Lib\\site-packages\\sklearn\\utils\\_param_validation.py:214\u001b[0m, in \u001b[0;36mvalidate_params.<locals>.decorator.<locals>.wrapper\u001b[1;34m(*args, **kwargs)\u001b[0m\n\u001b[0;32m    208\u001b[0m \u001b[39mtry\u001b[39;00m:\n\u001b[0;32m    209\u001b[0m     \u001b[39mwith\u001b[39;00m config_context(\n\u001b[0;32m    210\u001b[0m         skip_parameter_validation\u001b[39m=\u001b[39m(\n\u001b[0;32m    211\u001b[0m             prefer_skip_nested_validation \u001b[39mor\u001b[39;00m global_skip_validation\n\u001b[0;32m    212\u001b[0m         )\n\u001b[0;32m    213\u001b[0m     ):\n\u001b[1;32m--> 214\u001b[0m         \u001b[39mreturn\u001b[39;00m func(\u001b[39m*\u001b[39;49margs, \u001b[39m*\u001b[39;49m\u001b[39m*\u001b[39;49mkwargs)\n\u001b[0;32m    215\u001b[0m \u001b[39mexcept\u001b[39;00m InvalidParameterError \u001b[39mas\u001b[39;00m e:\n\u001b[0;32m    216\u001b[0m     \u001b[39m# When the function is just a wrapper around an estimator, we allow\u001b[39;00m\n\u001b[0;32m    217\u001b[0m     \u001b[39m# the function to delegate validation to the estimator, but we replace\u001b[39;00m\n\u001b[0;32m    218\u001b[0m     \u001b[39m# the name of the estimator by the name of the function in the error\u001b[39;00m\n\u001b[0;32m    219\u001b[0m     \u001b[39m# message to avoid confusion.\u001b[39;00m\n\u001b[0;32m    220\u001b[0m     msg \u001b[39m=\u001b[39m re\u001b[39m.\u001b[39msub(\n\u001b[0;32m    221\u001b[0m         \u001b[39mr\u001b[39m\u001b[39m\"\u001b[39m\u001b[39mparameter of \u001b[39m\u001b[39m\\\u001b[39m\u001b[39mw+ must be\u001b[39m\u001b[39m\"\u001b[39m,\n\u001b[0;32m    222\u001b[0m         \u001b[39mf\u001b[39m\u001b[39m\"\u001b[39m\u001b[39mparameter of \u001b[39m\u001b[39m{\u001b[39;00mfunc\u001b[39m.\u001b[39m\u001b[39m__qualname__\u001b[39m\u001b[39m}\u001b[39;00m\u001b[39m must be\u001b[39m\u001b[39m\"\u001b[39m,\n\u001b[0;32m    223\u001b[0m         \u001b[39mstr\u001b[39m(e),\n\u001b[0;32m    224\u001b[0m     )\n",
      "File \u001b[1;32mc:\\Users\\joris\\Documents\\py-ml-car-purchase\\course-venv\\Lib\\site-packages\\sklearn\\tree\\_export.py:905\u001b[0m, in \u001b[0;36mexport_graphviz\u001b[1;34m(decision_tree, out_file, max_depth, feature_names, class_names, label, filled, leaves_parallel, impurity, node_ids, proportion, rotate, rounded, special_characters, precision, fontname)\u001b[0m\n\u001b[0;32m    886\u001b[0m     out_file \u001b[39m=\u001b[39m StringIO()\n\u001b[0;32m    888\u001b[0m exporter \u001b[39m=\u001b[39m _DOTTreeExporter(\n\u001b[0;32m    889\u001b[0m     out_file\u001b[39m=\u001b[39mout_file,\n\u001b[0;32m    890\u001b[0m     max_depth\u001b[39m=\u001b[39mmax_depth,\n\u001b[1;32m   (...)\u001b[0m\n\u001b[0;32m    903\u001b[0m     fontname\u001b[39m=\u001b[39mfontname,\n\u001b[0;32m    904\u001b[0m )\n\u001b[1;32m--> 905\u001b[0m exporter\u001b[39m.\u001b[39;49mexport(decision_tree)\n\u001b[0;32m    907\u001b[0m \u001b[39mif\u001b[39;00m return_string:\n\u001b[0;32m    908\u001b[0m     \u001b[39mreturn\u001b[39;00m exporter\u001b[39m.\u001b[39mout_file\u001b[39m.\u001b[39mgetvalue()\n",
      "File \u001b[1;32mc:\\Users\\joris\\Documents\\py-ml-car-purchase\\course-venv\\Lib\\site-packages\\sklearn\\tree\\_export.py:465\u001b[0m, in \u001b[0;36m_DOTTreeExporter.export\u001b[1;34m(self, decision_tree)\u001b[0m\n\u001b[0;32m    463\u001b[0m     \u001b[39mself\u001b[39m\u001b[39m.\u001b[39mrecurse(decision_tree, \u001b[39m0\u001b[39m, criterion\u001b[39m=\u001b[39m\u001b[39m\"\u001b[39m\u001b[39mimpurity\u001b[39m\u001b[39m\"\u001b[39m)\n\u001b[0;32m    464\u001b[0m \u001b[39melse\u001b[39;00m:\n\u001b[1;32m--> 465\u001b[0m     \u001b[39mself\u001b[39;49m\u001b[39m.\u001b[39;49mrecurse(decision_tree\u001b[39m.\u001b[39;49mtree_, \u001b[39m0\u001b[39;49m, criterion\u001b[39m=\u001b[39;49mdecision_tree\u001b[39m.\u001b[39;49mcriterion)\n\u001b[0;32m    467\u001b[0m \u001b[39mself\u001b[39m\u001b[39m.\u001b[39mtail()\n",
      "File \u001b[1;32mc:\\Users\\joris\\Documents\\py-ml-car-purchase\\course-venv\\Lib\\site-packages\\sklearn\\tree\\_export.py:523\u001b[0m, in \u001b[0;36m_DOTTreeExporter.recurse\u001b[1;34m(self, tree, node_id, criterion, parent, depth)\u001b[0m\n\u001b[0;32m    519\u001b[0m \u001b[39melse\u001b[39;00m:\n\u001b[0;32m    520\u001b[0m     \u001b[39mself\u001b[39m\u001b[39m.\u001b[39mranks[\u001b[39mstr\u001b[39m(depth)]\u001b[39m.\u001b[39mappend(\u001b[39mstr\u001b[39m(node_id))\n\u001b[0;32m    522\u001b[0m \u001b[39mself\u001b[39m\u001b[39m.\u001b[39mout_file\u001b[39m.\u001b[39mwrite(\n\u001b[1;32m--> 523\u001b[0m     \u001b[39m\"\u001b[39m\u001b[39m%d\u001b[39;00m\u001b[39m [label=\u001b[39m\u001b[39m%s\u001b[39;00m\u001b[39m\"\u001b[39m \u001b[39m%\u001b[39m (node_id, \u001b[39mself\u001b[39;49m\u001b[39m.\u001b[39;49mnode_to_str(tree, node_id, criterion))\n\u001b[0;32m    524\u001b[0m )\n\u001b[0;32m    526\u001b[0m \u001b[39mif\u001b[39;00m \u001b[39mself\u001b[39m\u001b[39m.\u001b[39mfilled:\n\u001b[0;32m    527\u001b[0m     \u001b[39mself\u001b[39m\u001b[39m.\u001b[39mout_file\u001b[39m.\u001b[39mwrite(\n\u001b[0;32m    528\u001b[0m         \u001b[39m'\u001b[39m\u001b[39m, fillcolor=\u001b[39m\u001b[39m\"\u001b[39m\u001b[39m%s\u001b[39;00m\u001b[39m\"\u001b[39m\u001b[39m'\u001b[39m \u001b[39m%\u001b[39m \u001b[39mself\u001b[39m\u001b[39m.\u001b[39mget_fill_color(tree, node_id)\n\u001b[0;32m    529\u001b[0m     )\n",
      "File \u001b[1;32mc:\\Users\\joris\\Documents\\py-ml-car-purchase\\course-venv\\Lib\\site-packages\\sklearn\\tree\\_export.py:392\u001b[0m, in \u001b[0;36m_BaseTreeExporter.node_to_str\u001b[1;34m(self, tree, node_id, criterion)\u001b[0m\n\u001b[0;32m    386\u001b[0m     \u001b[39melse\u001b[39;00m:\n\u001b[0;32m    387\u001b[0m         class_name \u001b[39m=\u001b[39m \u001b[39m\"\u001b[39m\u001b[39my\u001b[39m\u001b[39m%s\u001b[39;00m\u001b[39m%s\u001b[39;00m\u001b[39m%s\u001b[39;00m\u001b[39m\"\u001b[39m \u001b[39m%\u001b[39m (\n\u001b[0;32m    388\u001b[0m             characters[\u001b[39m1\u001b[39m],\n\u001b[0;32m    389\u001b[0m             np\u001b[39m.\u001b[39margmax(value),\n\u001b[0;32m    390\u001b[0m             characters[\u001b[39m2\u001b[39m],\n\u001b[0;32m    391\u001b[0m         )\n\u001b[1;32m--> 392\u001b[0m     node_string \u001b[39m+\u001b[39;49m\u001b[39m=\u001b[39;49m class_name\n\u001b[0;32m    394\u001b[0m \u001b[39m# Clean up any trailing newlines\u001b[39;00m\n\u001b[0;32m    395\u001b[0m \u001b[39mif\u001b[39;00m node_string\u001b[39m.\u001b[39mendswith(characters[\u001b[39m4\u001b[39m]):\n",
      "\u001b[1;31mTypeError\u001b[0m: can only concatenate str (not \"numpy.int64\") to str"
     ]
    }
   ],
   "source": [
    "import pandas as pd\n",
    "from sklearn.tree import DecisionTreeClassifier\n",
    "from sklearn import tree\n",
    "import joblib\n",
    "\n",
    "df = pd.read_csv('./data/car-purchase-decision.csv')\n",
    "\n",
    "X = df.drop(columns=['user_id', 'purchased'])\n",
    "y = df['purchased']\n",
    "\n",
    "model = DecisionTreeClassifier()\n",
    "model.fit(X, y)\n",
    "\n",
    "joblib.dump(model, 'car-purchase-recommander.joblib')\n",
    "\n",
    "tree.export_graphviz(\n",
    "    model,\n",
    "    out_file='car-purchase-recommander.dot',\n",
    "    feature_names=['age', 'gender', 'annualsalary'],\n",
    "    class_names=sorted(y.unique()),\n",
    "    label='all',\n",
    "    filled=True\n",
    ")"
   ]
  }
 ],
 "metadata": {
  "kernelspec": {
   "display_name": "course-venv",
   "language": "python",
   "name": "python3"
  },
  "language_info": {
   "codemirror_mode": {
    "name": "ipython",
    "version": 3
   },
   "file_extension": ".py",
   "mimetype": "text/x-python",
   "name": "python",
   "nbconvert_exporter": "python",
   "pygments_lexer": "ipython3",
   "version": "3.11.4"
  }
 },
 "nbformat": 4,
 "nbformat_minor": 2
}
