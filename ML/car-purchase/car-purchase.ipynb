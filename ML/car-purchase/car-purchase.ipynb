{
 "cells": [
  {
   "cell_type": "code",
   "execution_count": 7,
   "metadata": {},
   "outputs": [
    {
     "name": "stdout",
     "output_type": "stream",
     "text": [
      "[1]\n"
     ]
    }
   ],
   "source": [
    "import pandas as pd\n",
    "from sklearn.tree import DecisionTreeClassifier\n",
    "from sklearn import tree\n",
    "import joblib\n",
    "\n",
    "# we create the dataframe with our excel file\n",
    "df = pd.read_csv('../../data/car-purchase-decision.csv')\n",
    "\n",
    "# we define intputs and outputs\n",
    "X = df[['gender', 'age', 'annualsalary']]\n",
    "y = df['purchased']\n",
    "\n",
    "# we create a new model decision tree classifier et train it\n",
    "model = DecisionTreeClassifier()\n",
    "model.fit(X.values, y.values)\n",
    "\n",
    "# Predictions\n",
    "predictions = model.predict([[1, 62, 50000]])\n",
    "print(predictions)\n",
    "\n",
    "# Model export\n",
    "joblib.dump(model, 'car-purchase-recommander.joblib')\n",
    "\n",
    "tree.export_graphviz(\n",
    "    model,\n",
    "    out_file='car-purchase-recommander.dot',\n",
    "    feature_names=['age', 'gender', 'annualsalary'],\n",
    "\n",
    "    # convert int to str to fix error\n",
    "    class_names=[str(cls) for cls in sorted(y.unique())],\n",
    "    \n",
    "    label='all',\n",
    "    filled=True\n",
    ")"
   ]
  }
 ],
 "metadata": {
  "kernelspec": {
   "display_name": "course-venv",
   "language": "python",
   "name": "python3"
  },
  "language_info": {
   "codemirror_mode": {
    "name": "ipython",
    "version": 3
   },
   "file_extension": ".py",
   "mimetype": "text/x-python",
   "name": "python",
   "nbconvert_exporter": "python",
   "pygments_lexer": "ipython3",
   "version": "3.11.4"
  }
 },
 "nbformat": 4,
 "nbformat_minor": 2
}
