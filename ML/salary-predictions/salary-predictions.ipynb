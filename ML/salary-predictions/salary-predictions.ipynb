{
 "cells": [
  {
   "cell_type": "code",
   "execution_count": 1,
   "metadata": {},
   "outputs": [
    {
     "name": "stdout",
     "output_type": "stream",
     "text": [
      "[138247.75182398]\n",
      "[166597.63878835]\n",
      "76004.0\n"
     ]
    }
   ],
   "source": [
    "import numpy as np\n",
    "import pandas as pd\n",
    "from sklearn.linear_model import LinearRegression\n",
    "\n",
    "# Import dataset\n",
    "df = pd.read_csv('../../data/Salary_dataset.csv')\n",
    "\n",
    "X = df[['YearsExperience']]\n",
    "y = df['Salary']\n",
    "\n",
    "# create model\n",
    "model = LinearRegression()\n",
    "\n",
    "# train model\n",
    "model.fit(X.values, y.values)\n",
    "\n",
    "# make predictions\n",
    "predicted_salary12 = model.predict([[12]])\n",
    "print(predicted_salary12)\n",
    "\n",
    "predicted_salary15 = model.predict([[15]])\n",
    "print(predicted_salary15)\n",
    "\n",
    "# calculate mean\n",
    "average_salary = df['Salary'].mean()\n",
    "print(average_salary)"
   ]
  }
 ],
 "metadata": {
  "kernelspec": {
   "display_name": "course-venv",
   "language": "python",
   "name": "python3"
  },
  "language_info": {
   "codemirror_mode": {
    "name": "ipython",
    "version": 3
   },
   "file_extension": ".py",
   "mimetype": "text/x-python",
   "name": "python",
   "nbconvert_exporter": "python",
   "pygments_lexer": "ipython3",
   "version": "3.11.4"
  }
 },
 "nbformat": 4,
 "nbformat_minor": 2
}
