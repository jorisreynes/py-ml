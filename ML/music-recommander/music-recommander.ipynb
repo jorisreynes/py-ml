{
 "cells": [
  {
   "cell_type": "code",
   "execution_count": 3,
   "metadata": {},
   "outputs": [
    {
     "name": "stdout",
     "output_type": "stream",
     "text": [
      "['HipHop' 'Dance']\n"
     ]
    }
   ],
   "source": [
    "import pandas as pd\n",
    "from sklearn.tree import DecisionTreeClassifier\n",
    "from sklearn import tree\n",
    "\n",
    "# Data frame with excel file\n",
    "df = pd.read_csv('../../data/music.csv')\n",
    "\n",
    "# Inputs and outputs\n",
    "X = df.drop(columns='genre')\n",
    "y = df['genre']\n",
    "\n",
    "# Model import and training\n",
    "model = DecisionTreeClassifier()\n",
    "model.fit(X.values, y.values)\n",
    "\n",
    "# Predictions\n",
    "predictions = model.predict([[15,1], [20,0]])\n",
    "print(predictions)\n",
    "\n",
    "# Graph export\n",
    "tree.export_graphviz(\n",
    " model,\n",
    " out_file='music-recommander.dot',\n",
    " feature_names=['age', 'gender'],\n",
    " class_names=sorted(y.unique()),\n",
    " label='all',\n",
    " filled=True\n",
    ")\n",
    "\n"
   ]
  }
 ],
 "metadata": {
  "kernelspec": {
   "display_name": "course-venv",
   "language": "python",
   "name": "python3"
  },
  "language_info": {
   "codemirror_mode": {
    "name": "ipython",
    "version": 3
   },
   "file_extension": ".py",
   "mimetype": "text/x-python",
   "name": "python",
   "nbconvert_exporter": "python",
   "pygments_lexer": "ipython3",
   "version": "3.11.4"
  }
 },
 "nbformat": 4,
 "nbformat_minor": 2
}
